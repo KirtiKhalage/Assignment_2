{
 "cells": [
  {
   "cell_type": "markdown",
   "id": "e840acdf",
   "metadata": {},
   "source": [
    "# Write a Python program to get a list, sorted in increasing order by the last element in each tuple from a given list of non-empty tuples"
   ]
  },
  {
   "cell_type": "code",
   "execution_count": 14,
   "id": "d639d7e9",
   "metadata": {},
   "outputs": [
    {
     "name": "stdout",
     "output_type": "stream",
     "text": [
      "[(2, 1), (1, 2), (2, 3), (4, 4), (2, 5)]\n"
     ]
    }
   ],
   "source": [
    "Sample = [(2,5),(1,2),(4,4),(2,3),(2,1)]\n",
    "New = []\n",
    "New_1 = []\n",
    "for i in Sample:\n",
    "    New.append(i[1],)\n",
    "    y = sorted(New) \n",
    "for j in y:\n",
    "    for s in Sample:\n",
    "        if j == int(s[1],):\n",
    "            New_1.append(s)\n",
    "print(New_1)"
   ]
  },
  {
   "cell_type": "markdown",
   "id": "e674bd7c",
   "metadata": {},
   "source": [
    "# Write a Python program to print a dictionary whose keys should be the alphabet from a-z and the value should be corresponding ASCII values"
   ]
  },
  {
   "cell_type": "code",
   "execution_count": 6,
   "id": "b619f012",
   "metadata": {},
   "outputs": [
    {
     "name": "stdout",
     "output_type": "stream",
     "text": [
      "{'a': 97, 'b': 98, 'c': 99, 'd': 100, 'e': 101, 'f': 102, 'g': 103, 'h': 104, 'i': 105, 'j': 106, 'k': 107, 'l': 108, 'm': 109, 'n': 110, 'o': 111, 'p': 112, 'q': 113, 'r': 114, 's': 115, 't': 116, 'u': 117, 'v': 118, 'w': 119, 'x': 120, 'y': 121, 'z': 122}\n"
     ]
    }
   ],
   "source": [
    "alpha_dict = dict()\n",
    "for i in range(97, 123):\n",
    "    alpha_dict[chr(i)] = i\n",
    "print(alpha_dict)"
   ]
  }
 ],
 "metadata": {
  "kernelspec": {
   "display_name": "Python 3 (ipykernel)",
   "language": "python",
   "name": "python3"
  },
  "language_info": {
   "codemirror_mode": {
    "name": "ipython",
    "version": 3
   },
   "file_extension": ".py",
   "mimetype": "text/x-python",
   "name": "python",
   "nbconvert_exporter": "python",
   "pygments_lexer": "ipython3",
   "version": "3.9.13"
  }
 },
 "nbformat": 4,
 "nbformat_minor": 5
}
